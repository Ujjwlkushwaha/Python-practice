{
 "cells": [
  {
   "cell_type": "markdown",
   "id": "c33a0cd9",
   "metadata": {},
   "source": [
    "# Functions in python\n",
    "<p>Function is a block of code that performs a specific task</p>\n",
    "<p><b>Benefits : </b> Increase code <b>Readability & Reusability</b></p>\n",
    "\n",
    "## Basic Concepts -\n",
    "<ul>\n",
    "    <li><b>Create function : </b> Use the <b>def</b> keyword to define function</li>\n",
    "    <li><b>Call function : </b> Use the function's name followed by () to call it</li>\n",
    "    <li><b>Parameters : </b> The variable listed inside parantheses in function definition</li>\n",
    "    <li><b>Argument : </b> The actual value you pass to function when you call it</li>\n",
    "</ul>"
   ]
  },
  {
   "cell_type": "markdown",
   "id": "52b0f2f0",
   "metadata": {},
   "source": [
    "## Type of function\n",
    "* Built-in function - Prebuilt or predefined functions\n",
    "* User-defined functions - Defined by the users"
   ]
  },
  {
   "cell_type": "markdown",
   "id": "ce6dc8e3",
   "metadata": {},
   "source": [
    "### Function definition"
   ]
  },
  {
   "cell_type": "code",
   "execution_count": 3,
   "id": "17c41146",
   "metadata": {},
   "outputs": [],
   "source": [
    "# Syntax \n",
    "\n",
    "def new_fun( params ):\n",
    "    # instruction1\n",
    "    # instruction2\n",
    "    # .....\n",
    "\n",
    "    return  # \"return\" is the keyword used for return some value"
   ]
  },
  {
   "cell_type": "markdown",
   "id": "7682b8a3",
   "metadata": {},
   "source": [
    "### Function calling"
   ]
  },
  {
   "cell_type": "code",
   "execution_count": null,
   "id": "2207ffe1",
   "metadata": {},
   "outputs": [],
   "source": [
    "new_fun( ) # calling a defined function"
   ]
  },
  {
   "cell_type": "markdown",
   "id": "5b33cd27",
   "metadata": {},
   "source": [
    "### Examples"
   ]
  },
  {
   "cell_type": "code",
   "execution_count": null,
   "id": "e662bf2c",
   "metadata": {},
   "outputs": [
    {
     "name": "stdout",
     "output_type": "stream",
     "text": [
      " Hello Everyone \n"
     ]
    }
   ],
   "source": [
    "# Function definition without parameters\n",
    "def greeting():\n",
    "    print( \" Hello Everyone \")\n",
    "\n",
    "# calling function without arguments\n",
    "greeting()"
   ]
  },
  {
   "cell_type": "code",
   "execution_count": null,
   "id": "9b8bb0db",
   "metadata": {},
   "outputs": [
    {
     "name": "stdout",
     "output_type": "stream",
     "text": [
      "Hello  Ujjwal  jii! \n"
     ]
    }
   ],
   "source": [
    "# Function definition with parameter\n",
    "def greeting( name ):\n",
    "    print( f\"Hello {name} jii! \")\n",
    "\n",
    "# Calling function with arguments\n",
    "greeting( \" Ujjwal \")"
   ]
  },
  {
   "cell_type": "markdown",
   "id": "dbd5b9a4",
   "metadata": {},
   "source": [
    "## return Statement\n",
    "This statement is used in a function to send a result back to the place where fun() called."
   ]
  },
  {
   "cell_type": "code",
   "execution_count": 5,
   "id": "b00d407e",
   "metadata": {},
   "outputs": [
    {
     "name": "stdout",
     "output_type": "stream",
     "text": [
      "10\n"
     ]
    }
   ],
   "source": [
    "def addition( a , b ):\n",
    "    return a+b  # this statement return the answer\n",
    "\n",
    "# calling function and get the result\n",
    "ans = addition( 5 , 5 )\n",
    "print( ans ) # 10"
   ]
  },
  {
   "cell_type": "markdown",
   "id": "4dadccfa",
   "metadata": {},
   "source": [
    "## pass Statement \n",
    "This is a placeholder keyword in function or loop. It does nothing just pass the control.\n",
    "\n",
    "\n",
    "Used to create <b>empty function</b> or <b>loop</b> becouse python does not allow to create empty function"
   ]
  },
  {
   "cell_type": "code",
   "execution_count": null,
   "id": "9a70bf26",
   "metadata": {},
   "outputs": [],
   "source": [
    "# Empty function definition without pass statement ❌\n",
    "# def greet():\n",
    "    # ERROR : expected an indented block after function definition on line 2\n",
    "\n",
    "# Empty function definition with pass statement ✅\n",
    "def my_fun() :\n",
    "    pass\n",
    "\n",
    "# greet() # gives error\n",
    "my_fun() # not gives error"
   ]
  },
  {
   "cell_type": "markdown",
   "id": "2303490c",
   "metadata": {},
   "source": [
    "## Types of arguments\n",
    "* Required argument\n",
    "* Default argument\n",
    "* Named argement \n",
    "* Arbitrary argument"
   ]
  },
  {
   "cell_type": "markdown",
   "id": "2b960043",
   "metadata": {},
   "source": [
    "### Required Argument \n",
    "Require argument are the values which is necessury to pass in function calling\n",
    "\n",
    "If function need 3 values, you must pass 3 arguments "
   ]
  },
  {
   "cell_type": "code",
   "execution_count": null,
   "id": "2ce57258",
   "metadata": {},
   "outputs": [],
   "source": [
    "# This function needs 2 arguments\n",
    "\n",
    "def area( l , b ):\n",
    "    area_of_rectangle = l * b\n",
    "    return area_of_rectangle\n",
    "\n",
    "ans = area( 5 , 6) # these are required arguments \n",
    "print( f\"Area is { ans }\")"
   ]
  },
  {
   "cell_type": "markdown",
   "id": "ffd3ab25",
   "metadata": {},
   "source": [
    "### Default Arguments\n",
    "You can assign the default value to function parameter as argument\n",
    "\n",
    "If value is not provided then function used default value otherwise used provided value"
   ]
  },
  {
   "cell_type": "code",
   "execution_count": null,
   "id": "d2d1ce52",
   "metadata": {},
   "outputs": [
    {
     "name": "stdout",
     "output_type": "stream",
     "text": [
      "Namaste Bhaiyaa\n",
      "Namaste Ujjwal\n"
     ]
    }
   ],
   "source": [
    "# Default Argument\n",
    "def greeting( name = \"Bhaiyaa\"):\n",
    "    print(f\"Namaste {name}\")\n",
    "\n",
    "greeting() # Namaste Bhaiyaa\n",
    "greeting(\"Ujjwal\") # Namaste Ujjwal\n"
   ]
  },
  {
   "cell_type": "markdown",
   "id": "5b0d00e9",
   "metadata": {},
   "source": [
    "### Named Arguments \n",
    "We can provide name to argements"
   ]
  },
  {
   "cell_type": "code",
   "execution_count": null,
   "id": "06a9b694",
   "metadata": {},
   "outputs": [],
   "source": [
    "def divide( a , b ):\n",
    "    print( a/b ) \n",
    "\n",
    "divide( 6 , 3 ) # required arguments            \n",
    "divide( b = 6 , a = 3 ) # Named argument arguments            "
   ]
  },
  {
   "cell_type": "markdown",
   "id": "87c1ce3b",
   "metadata": {},
   "source": [
    "### Arbitrery Arguments\n",
    "* If you don't know the number of arguments will be passed, We use arbitrery arguments.\n",
    "* Use <b>*args</b> as parameter in function for store any number of arguments.\n",
    "* <b>*args</b> store multiple arguments in form of tuple.\n"
   ]
  },
  {
   "cell_type": "code",
   "execution_count": null,
   "id": "b8191691",
   "metadata": {},
   "outputs": [],
   "source": [
    "# Definition holds many arguments\n",
    "\n",
    "def sumation( *args ):\n",
    "    print( type( args ))  # <class 'tuple'>\n",
    "    print( sum(args) )\n",
    "\n",
    "sumation( 3,4,5 )  # 12\n",
    "sumation( 34,44,55, 78 , 54 ) # 265\n",
    "sumation( 3,4,5,54, 23 ,23 ,23, 23, 23,2323, )  # 2504"
   ]
  },
  {
   "cell_type": "markdown",
   "id": "a020e27a",
   "metadata": {},
   "source": [
    "### Arbitrary Keyword Argument\n",
    "* You can also pass any number of named arguments by which we can access indivisual argument by name.\n",
    "* Use <b>**kargs</b> to store multiple named arguments\n",
    "* <b>**Kargs</b> stores each value in form of dictionary "
   ]
  },
  {
   "cell_type": "code",
   "execution_count": null,
   "id": "38cde458",
   "metadata": {},
   "outputs": [],
   "source": [
    "# Holds multiple named arguments\n",
    "\n",
    "def details( **det ):\n",
    "    for key, value in det.items():\n",
    "        print(key , \" \" , value)\n",
    "\n",
    "# passing multiple named arguments\n",
    "details(name = \"ujjwal\" , age=43 , gender=\"male\")"
   ]
  }
 ],
 "metadata": {
  "kernelspec": {
   "display_name": "Python 3",
   "language": "python",
   "name": "python3"
  },
  "language_info": {
   "codemirror_mode": {
    "name": "ipython",
    "version": 3
   },
   "file_extension": ".py",
   "mimetype": "text/x-python",
   "name": "python",
   "nbconvert_exporter": "python",
   "pygments_lexer": "ipython3",
   "version": "3.12.2"
  }
 },
 "nbformat": 4,
 "nbformat_minor": 5
}
